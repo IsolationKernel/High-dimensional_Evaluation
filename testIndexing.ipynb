{
 "cells": [
  {
   "cell_type": "code",
   "execution_count": null,
   "metadata": {},
   "outputs": [],
   "source": [
    "import numpy as np\n",
    "from time import time\n",
    "from sklearn.neighbors import BallTree\n",
    "from sklearn.neighbors import NearestNeighbors\n",
    "from sklearn.metrics import pairwise_distances\n",
    "from scipy.spatial.distance import pdist,cdist\n",
    "import os\n",
    "\n",
    "def bench_knn_query(Data):    \n",
    "    X = Data# modelling points\n",
    "    Y = X # query points\n",
    "    print('modelling data size'+str(X.shape)+'  query data size'+str(Y.shape))\n",
    "    start = time()\n",
    "    neigh = NearestNeighbors(n_neighbors=5, algorithm='ball_tree',leaf_size=10 * X.shape[0]).fit(X)\n",
    "    end1 = time() \n",
    "    distances, indices = neigh.kneighbors(Y,return_distance=True)\n",
    "    end2 = time()\n",
    "    print('Linear search:  ' + str(end2-start))\n",
    " #   print(\"Building time: \" + str(end1-start) + \" Query time: \" + str(end2-end1))\n",
    "    start = time()\n",
    "    neigh = NearestNeighbors(n_neighbors=5, algorithm='ball_tree',leaf_size=15).fit(X)\n",
    "    end1 = time() \n",
    "    distances, indices = neigh.kneighbors(Y,return_distance=True)\n",
    "    end2 = time()\n",
    "    print('Ball tree:      ' + str(end2-start))\n",
    "#    print(\"Building time: \" + str(end1-start) + \" Query time: \" + str(end2-end1))"
   ]
  },
  {
   "cell_type": "code",
   "execution_count": null,
   "metadata": {},
   "outputs": [],
   "source": [
    "from sklearn import datasets as ds\n",
    "X1, label = ds.load_svmlight_file(\"Odata.svm\")\n",
    "X1=X1.todense()  \n",
    "bench_knn_query(X1)"
   ]
  },
  {
   "cell_type": "code",
   "execution_count": null,
   "metadata": {},
   "outputs": [],
   "source": [
    "from sklearn import datasets as ds\n",
    "X1, label = ds.load_svmlight_file(\"IKdata.svm\")\n",
    "X1=X1.todense()  \n",
    "bench_knn_query(X1)"
   ]
  }
 ],
 "metadata": {
  "kernelspec": {
   "display_name": "Python 3",
   "language": "python",
   "name": "python3"
  },
  "language_info": {
   "codemirror_mode": {
    "name": "ipython",
    "version": 3
   },
   "file_extension": ".py",
   "mimetype": "text/x-python",
   "name": "python",
   "nbconvert_exporter": "python",
   "pygments_lexer": "ipython3",
   "version": "3.6.5"
  }
 },
 "nbformat": 4,
 "nbformat_minor": 4
}
